{
 "cells": [
  {
   "cell_type": "markdown",
   "id": "e2f5a080",
   "metadata": {},
   "source": [
    "# OR gate\n"
   ]
  },
  {
   "cell_type": "markdown",
   "id": "67f2ba66",
   "metadata": {},
   "source": [
    "- Mp Neuron"
   ]
  },
  {
   "cell_type": "code",
   "execution_count": 4,
   "id": "fe6375c6",
   "metadata": {},
   "outputs": [
    {
     "data": {
      "text/html": [
       "<div>\n",
       "<style scoped>\n",
       "    .dataframe tbody tr th:only-of-type {\n",
       "        vertical-align: middle;\n",
       "    }\n",
       "\n",
       "    .dataframe tbody tr th {\n",
       "        vertical-align: top;\n",
       "    }\n",
       "\n",
       "    .dataframe thead th {\n",
       "        text-align: right;\n",
       "    }\n",
       "</style>\n",
       "<table border=\"1\" class=\"dataframe\">\n",
       "  <thead>\n",
       "    <tr style=\"text-align: right;\">\n",
       "      <th></th>\n",
       "      <th>Input1</th>\n",
       "      <th>Input2</th>\n",
       "      <th>Output</th>\n",
       "    </tr>\n",
       "  </thead>\n",
       "  <tbody>\n",
       "    <tr>\n",
       "      <th>0</th>\n",
       "      <td>1</td>\n",
       "      <td>1</td>\n",
       "      <td>1</td>\n",
       "    </tr>\n",
       "    <tr>\n",
       "      <th>1</th>\n",
       "      <td>1</td>\n",
       "      <td>0</td>\n",
       "      <td>1</td>\n",
       "    </tr>\n",
       "    <tr>\n",
       "      <th>2</th>\n",
       "      <td>0</td>\n",
       "      <td>1</td>\n",
       "      <td>1</td>\n",
       "    </tr>\n",
       "    <tr>\n",
       "      <th>3</th>\n",
       "      <td>0</td>\n",
       "      <td>0</td>\n",
       "      <td>0</td>\n",
       "    </tr>\n",
       "  </tbody>\n",
       "</table>\n",
       "</div>"
      ],
      "text/plain": [
       "   Input1  Input2  Output\n",
       "0       1       1       1\n",
       "1       1       0       1\n",
       "2       0       1       1\n",
       "3       0       0       0"
      ]
     },
     "execution_count": 4,
     "metadata": {},
     "output_type": "execute_result"
    }
   ],
   "source": [
    "import pandas as pd\n",
    "import numpy as np\n",
    "data={'Input1':[1,1,0,0],'Input2':[1,0,1,0],'Output':[1,1,1,0]}\n",
    "df_OR=pd.DataFrame(data)\n",
    "df_OR"
   ]
  },
  {
   "cell_type": "code",
   "execution_count": 5,
   "id": "3beaa950",
   "metadata": {},
   "outputs": [],
   "source": [
    "inputs=df_OR.iloc[:,0:2]\n",
    "output=df_OR.iloc[:,2]"
   ]
  },
  {
   "cell_type": "code",
   "execution_count": 6,
   "id": "563e900e",
   "metadata": {},
   "outputs": [
    {
     "name": "stdout",
     "output_type": "stream",
     "text": [
      "OR(1,1) = 1\n",
      "OR(1,0) = 1\n",
      "OR(0,1) = 1\n",
      "OR(0,0) = 0\n"
     ]
    }
   ],
   "source": [
    "# Single layer perceptron -- OR Gate\n",
    "def unit(a):\n",
    "  if a>0:\n",
    "    return 1\n",
    "  else:\n",
    "    return 0\n",
    "\n",
    "def percep(x,w,b):\n",
    "  v=np.dot(x,w)+b\n",
    "  return unit(v)\n",
    "\n",
    "def orgate(x):\n",
    "  w=np.array([2,2])\n",
    "  b=-1\n",
    "  return percep(x,w,b)\n",
    "\n",
    "t1=np.array(inputs.iloc[0])\n",
    "t2=np.array(inputs.iloc[1])\n",
    "t3=np.array(inputs.iloc[2])\n",
    "t4=np.array(inputs.iloc[3])\n",
    "print('OR({},{}) = {}'.format(1,1,orgate(t1)))\n",
    "print('OR({},{}) = {}'.format(1,0,orgate(t2)))\n",
    "print('OR({},{}) = {}'.format(0,1,orgate(t3)))\n",
    "print('OR({},{}) = {}'.format(0,0,orgate(t4)))"
   ]
  },
  {
   "cell_type": "code",
   "execution_count": 7,
   "id": "2b6f7200",
   "metadata": {},
   "outputs": [
    {
     "name": "stdout",
     "output_type": "stream",
     "text": [
      "OR(1,1) = 1\n",
      "OR(1,0) = 1\n",
      "OR(0,1) = 1\n",
      "OR(0,0) = 0\n"
     ]
    }
   ],
   "source": [
    "# McCulloch-Pitts Neuron -- OR Gate\n",
    "def func_or(a):\n",
    "  if a>=1:\n",
    "    return 1\n",
    "  else:\n",
    "    return 0\n",
    "\n",
    "def orgate(x):\n",
    "  v=np.sum(x)\n",
    "  return func_or(v)\n",
    "\n",
    "t1=np.array(inputs.iloc[0])\n",
    "t2=np.array(inputs.iloc[1])\n",
    "t3=np.array(inputs.iloc[2])\n",
    "t4=np.array(inputs.iloc[3])\n",
    "print('OR({},{}) = {}'.format(1,1,orgate(t1)))\n",
    "print('OR({},{}) = {}'.format(1,0,orgate(t2)))\n",
    "print('OR({},{}) = {}'.format(0,1,orgate(t3)))\n",
    "print('OR({},{}) = {}'.format(0,0,orgate(t4)))"
   ]
  },
  {
   "cell_type": "markdown",
   "id": "37f7616b",
   "metadata": {},
   "source": [
    "# And gate\n"
   ]
  },
  {
   "cell_type": "code",
   "execution_count": 8,
   "id": "a1e7b38b",
   "metadata": {},
   "outputs": [
    {
     "data": {
      "text/html": [
       "<div>\n",
       "<style scoped>\n",
       "    .dataframe tbody tr th:only-of-type {\n",
       "        vertical-align: middle;\n",
       "    }\n",
       "\n",
       "    .dataframe tbody tr th {\n",
       "        vertical-align: top;\n",
       "    }\n",
       "\n",
       "    .dataframe thead th {\n",
       "        text-align: right;\n",
       "    }\n",
       "</style>\n",
       "<table border=\"1\" class=\"dataframe\">\n",
       "  <thead>\n",
       "    <tr style=\"text-align: right;\">\n",
       "      <th></th>\n",
       "      <th>Input1</th>\n",
       "      <th>Input2</th>\n",
       "      <th>Output</th>\n",
       "    </tr>\n",
       "  </thead>\n",
       "  <tbody>\n",
       "    <tr>\n",
       "      <th>0</th>\n",
       "      <td>1</td>\n",
       "      <td>1</td>\n",
       "      <td>1</td>\n",
       "    </tr>\n",
       "    <tr>\n",
       "      <th>1</th>\n",
       "      <td>1</td>\n",
       "      <td>0</td>\n",
       "      <td>1</td>\n",
       "    </tr>\n",
       "    <tr>\n",
       "      <th>2</th>\n",
       "      <td>0</td>\n",
       "      <td>1</td>\n",
       "      <td>1</td>\n",
       "    </tr>\n",
       "    <tr>\n",
       "      <th>3</th>\n",
       "      <td>0</td>\n",
       "      <td>0</td>\n",
       "      <td>0</td>\n",
       "    </tr>\n",
       "  </tbody>\n",
       "</table>\n",
       "</div>"
      ],
      "text/plain": [
       "   Input1  Input2  Output\n",
       "0       1       1       1\n",
       "1       1       0       1\n",
       "2       0       1       1\n",
       "3       0       0       0"
      ]
     },
     "execution_count": 8,
     "metadata": {},
     "output_type": "execute_result"
    }
   ],
   "source": [
    "import pandas as pd\n",
    "data1={'Input1':[1,1,0,0],'Input2':[1,0,1,0],'Output':[1,0,0,0]}\n",
    "df_AND=pd.DataFrame(data)\n",
    "df_AND"
   ]
  },
  {
   "cell_type": "code",
   "execution_count": 9,
   "id": "4e8286f5",
   "metadata": {},
   "outputs": [],
   "source": [
    "inputs_and=df_AND.iloc[:,0:2]\n",
    "output_and=df_AND.iloc[:,2]"
   ]
  },
  {
   "cell_type": "code",
   "execution_count": 10,
   "id": "f8b22efb",
   "metadata": {},
   "outputs": [
    {
     "name": "stdout",
     "output_type": "stream",
     "text": [
      "AND(1,1) = 1\n",
      "AND(1,0) = 0\n",
      "AND(0,1) = 0\n",
      "AND(0,0) = 0\n"
     ]
    }
   ],
   "source": [
    "# Single layer perceptron -- AND Gate\n",
    "import numpy as np\n",
    "def unit(a):\n",
    "  if a>0:\n",
    "    return 1\n",
    "  else:\n",
    "    return 0\n",
    "\n",
    "def percep(x,w,b):\n",
    "  v=np.dot(x,w)+b\n",
    "  return unit(v)\n",
    "\n",
    "def andgate(x):\n",
    "  weight=np.array([1,1])\n",
    "  bias=-1\n",
    "  return percep(x,weight,bias)\n",
    "\n",
    "\n",
    "t1=np.array(inputs_and.iloc[0])\n",
    "t2=np.array(inputs_and.iloc[1])\n",
    "t3=np.array(inputs_and.iloc[2])\n",
    "t4=np.array(inputs_and.iloc[3])\n",
    "print('AND({},{}) = {}'.format(1,1,andgate(t1)))\n",
    "print('AND({},{}) = {}'.format(1,0,andgate(t2)))\n",
    "print('AND({},{}) = {}'.format(0,1,andgate(t3)))\n",
    "print('AND({},{}) = {}'.format(0,0,andgate(t4)))"
   ]
  },
  {
   "cell_type": "code",
   "execution_count": 11,
   "id": "4bd74107",
   "metadata": {},
   "outputs": [
    {
     "name": "stdout",
     "output_type": "stream",
     "text": [
      "AND(1,1) = 1\n",
      "AND(1,0) = 0\n",
      "AND(0,1) = 0\n",
      "AND(0,0) = 0\n"
     ]
    }
   ],
   "source": [
    "# McCulloch-Pitts Neuron -- AND Gate\n",
    "import numpy as np\n",
    "def func(x,v):\n",
    "  if v==len(x):\n",
    "    return 1\n",
    "  else:\n",
    "    return 0\n",
    "\n",
    "def andgate(x):\n",
    "  v=np.sum(x)\n",
    "  return func(x,v)\n",
    "\n",
    "\n",
    "t1=np.array(inputs_and.iloc[0])\n",
    "t2=np.array(inputs_and.iloc[1])\n",
    "t3=np.array(inputs_and.iloc[2])\n",
    "t4=np.array(inputs_and.iloc[3])\n",
    "print('AND({},{}) = {}'.format(1,1,andgate(t1)))\n",
    "print('AND({},{}) = {}'.format(1,0,andgate(t2)))\n",
    "print('AND({},{}) = {}'.format(0,1,andgate(t3)))\n",
    "print('AND({},{}) = {}'.format(0,0,andgate(t4)))"
   ]
  },
  {
   "cell_type": "code",
   "execution_count": null,
   "id": "dc8d4e81",
   "metadata": {},
   "outputs": [],
   "source": []
  },
  {
   "cell_type": "code",
   "execution_count": null,
   "id": "19a45877",
   "metadata": {},
   "outputs": [],
   "source": []
  },
  {
   "cell_type": "code",
   "execution_count": null,
   "id": "610b8393",
   "metadata": {},
   "outputs": [],
   "source": []
  }
 ],
 "metadata": {
  "kernelspec": {
   "display_name": "Python 3 (ipykernel)",
   "language": "python",
   "name": "python3"
  },
  "language_info": {
   "codemirror_mode": {
    "name": "ipython",
    "version": 3
   },
   "file_extension": ".py",
   "mimetype": "text/x-python",
   "name": "python",
   "nbconvert_exporter": "python",
   "pygments_lexer": "ipython3",
   "version": "3.9.13"
  }
 },
 "nbformat": 4,
 "nbformat_minor": 5
}
